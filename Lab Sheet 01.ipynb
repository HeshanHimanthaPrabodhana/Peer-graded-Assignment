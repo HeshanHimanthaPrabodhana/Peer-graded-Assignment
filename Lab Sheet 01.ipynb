{
  "metadata": {
    "kernelspec": {
      "name": "python",
      "display_name": "Python (Pyodide)",
      "language": "python"
    },
    "language_info": {
      "codemirror_mode": {
        "name": "python",
        "version": 3
      },
      "file_extension": ".py",
      "mimetype": "text/x-python",
      "name": "python",
      "nbconvert_exporter": "python",
      "pygments_lexer": "ipython3",
      "version": "3.8"
    }
  },
  "nbformat_minor": 4,
  "nbformat": 4,
  "cells": [
    {
      "cell_type": "markdown",
      "source": "# Data Science Final Project\n\n",
      "metadata": {}
    },
    {
      "cell_type": "markdown",
      "source": "## Introduction\nThis notebook is part of the Data Science course and demonstrates basic skills in creating Markdown and code cells in Jupyter notebooks.\n",
      "metadata": {}
    },
    {
      "cell_type": "markdown",
      "source": "## Data Science Languages\n- Python\n- R\n- Julia\n- SQL\n",
      "metadata": {}
    },
    {
      "cell_type": "markdown",
      "source": "## Data Science Libraries\n\n- Numpy\n- Pandas\n- Matplotlib\n- Scikit-learn\n- TensorFlow",
      "metadata": {}
    },
    {
      "cell_type": "markdown",
      "source": "## Data Science Tools\n| Tool             | Description                    |\n|------------------|--------------------------------|\n| Jupyter Notebook | Interactive coding environment |\n| RStduio          | Integrated development for R   |\n| Apache Spark     | Distributed data processing    |\n",
      "metadata": {}
    },
    {
      "cell_type": "markdown",
      "source": "## Arithmetic Expression Examples\nBelow are examples of arithmetic expressions:\n",
      "metadata": {}
    },
    {
      "cell_type": "markdown",
      "source": "# Example of multiplication and addition\nresult = (3 * 4) + 5\nresult\n",
      "metadata": {}
    },
    {
      "cell_type": "markdown",
      "source": "# Convert minutes to hours\nminutes = 150\nhours = minutes / 60\nhours\n",
      "metadata": {}
    },
    {
      "cell_type": "markdown",
      "source": "## Objectives\n- Learn to use Markdown in Jupyter notebooks\n- Practice creating code cells\n- Demonstrate the ability to use arithmetic operations\n",
      "metadata": {}
    },
    {
      "cell_type": "markdown",
      "source": "## Author\nG.G.Heshan Himantha Prabodhana\n",
      "metadata": {}
    },
    {
      "cell_type": "code",
      "source": "",
      "metadata": {
        "trusted": true
      },
      "outputs": [],
      "execution_count": null
    }
  ]
}