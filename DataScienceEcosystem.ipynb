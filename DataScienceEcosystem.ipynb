{
 "cells": [
  {
   "cell_type": "markdown",
   "id": "bab9f253-0b6e-445f-a422-457e4c6334e2",
   "metadata": {},
   "source": [
    "<H1>Data Science Tools and Ecosystem</H1>"
   ]
  },
  {
   "cell_type": "markdown",
   "id": "e5b14904-e400-4189-ae44-f9121bcbdc1d",
   "metadata": {},
   "source": [
    "In this notebook, Data Science Tools and Ecosystem are summarized. We can see some languages used in python."
   ]
  },
  {
   "cell_type": "markdown",
   "id": "9d6e0734-d287-4db2-9ff7-597bf5d2b871",
   "metadata": {},
   "source": [
    "**Objectives:*\n",
    "<ul>\n",
    "    <li>Python</li>\n",
    "    <li>SQL</li>\n",
    "    <li>R</li>\n",
    "    \n",
    "\n",
    "</ul>"
   ]
  },
  {
   "cell_type": "markdown",
   "id": "dde8a3bf-2318-4970-958e-922c91f45b8d",
   "metadata": {},
   "source": [
    "Some of the popular languages that Data Scientists use are:"
   ]
  },
  {
   "cell_type": "markdown",
   "id": "c5b7768a-bb10-46c9-b3f8-dcdddceec57d",
   "metadata": {},
   "source": [
    "<ol>\n",
    "    <li>Python</li>\n",
    "    <li>R</li>\n",
    "    <li>SQL</li>\n",
    "    <li>Java</li>\n",
    "    <li>Julia</li>\n",
    "    <li>Scala</li>\n",
    "    <li>Java Script</li>\n",
    "    <li>C / C++</li>\n",
    "</ol>"
   ]
  },
  {
   "cell_type": "markdown",
   "id": "d5f75f51-87b9-40b4-8fd2-77fc53a0732e",
   "metadata": {},
   "source": [
    "Some of the commonly used libraries used by Data Scienctists include:"
   ]
  },
  {
   "cell_type": "markdown",
   "id": "2213faee-892f-4590-954d-94c662996a33",
   "metadata": {},
   "source": [
    "<ol>\n",
    "     <li>TensorFlow</li>\n",
    "     <li>NumPy</li>\n",
    "     <li>SciPy</li>\n",
    "     <li>Pandas</li>\n",
    "     <li>Matplotlib</li>\n",
    "     <li>Keras</li>\n",
    "     <li>PyTorch</li>\n",
    "     <li>Scrapy</li>\n",
    "</ol>"
   ]
  },
  {
   "cell_type": "markdown",
   "id": "5230e8c5-5820-477a-b92b-a0a3c3e4b346",
   "metadata": {},
   "source": [
    "<table>\n",
    "  <tr>\n",
    "    <th>Data Science Tools</th>\n",
    "  </tr>\n",
    "  <tr>\n",
    "    <td>Pandas</td>\n",
    "  </tr>\n",
    "  <tr>\n",
    "    <td>Hadoop</td>\n",
    "  </tr>\n",
    "  <tr>\n",
    "      <td>Ggplot2</td>\n",
    "  </tr>\n",
    "</table>"
   ]
  },
  {
   "cell_type": "markdown",
   "id": "e4892f1a-bef8-4619-acf7-accc7cf60207",
   "metadata": {},
   "source": [
    "<H3>Below are a few examples of evaluating arithmetic expressions in Python.</H3>"
   ]
  },
  {
   "cell_type": "code",
   "execution_count": 2,
   "id": "916970ae-c254-4e1e-a0ff-fa3365e5ae72",
   "metadata": {},
   "outputs": [
    {
     "data": {
      "text/plain": [
       "17"
      ]
     },
     "execution_count": 2,
     "metadata": {},
     "output_type": "execute_result"
    }
   ],
   "source": [
    "# This a simple arithmetic expression to multiply then add integers.\n",
    "(3*4)+5"
   ]
  },
  {
   "cell_type": "code",
   "execution_count": 1,
   "id": "8d5beeec-e7de-4200-97c0-431f9626b81a",
   "metadata": {},
   "outputs": [
    {
     "name": "stdout",
     "output_type": "stream",
     "text": [
      "3.3333333333333335 seconds\n"
     ]
    }
   ],
   "source": [
    "#This will convert 200 minutes to hours by diving by 60.\n",
    "n=(200/60)\n",
    "print(n,\"seconds\")"
   ]
  },
  {
   "cell_type": "markdown",
   "id": "107d6689-777d-4cf5-bd2f-e936b5e87e94",
   "metadata": {},
   "source": [
    "<H2>Author:G.G. Heshan Himantha Prabodhana</H2>"
   ]
  },
  {
   "cell_type": "code",
   "execution_count": null,
   "id": "e10b1055-c4a4-4fb6-865b-ac25b7f87a1e",
   "metadata": {},
   "outputs": [],
   "source": []
  }
 ],
 "metadata": {
  "kernelspec": {
   "display_name": "Python",
   "language": "python",
   "name": "conda-env-python-py"
  },
  "language_info": {
   "codemirror_mode": {
    "name": "ipython",
    "version": 3
   },
   "file_extension": ".py",
   "mimetype": "text/x-python",
   "name": "python",
   "nbconvert_exporter": "python",
   "pygments_lexer": "ipython3",
   "version": "3.7.12"
  }
 },
 "nbformat": 4,
 "nbformat_minor": 5
}
